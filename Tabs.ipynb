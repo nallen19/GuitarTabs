{
 "cells": [
  {
   "cell_type": "code",
   "execution_count": 1,
   "metadata": {},
   "outputs": [],
   "source": [
    "input_file = \"./Yeat.mp3\"\n",
    "output_dir = \"./Output\"\n",
    "license_key = 'e785344ccf324f0a'\n",
    "stem = 'electric_guitar'\n",
    "\n",
    "command = f\"python3 lalalai_splitter.py --input {input_file} \" \\\n",
    "          f\"--license {license_key} --output {output_dir} \" \\\n",
    "          f\"--stem {stem}\""
   ]
  },
  {
   "cell_type": "code",
   "execution_count": 2,
   "metadata": {},
   "outputs": [
    {
     "name": "stdout",
     "output_type": "stream",
     "text": [
      "Success:\n",
      "Uploading the file \"./Yeat.mp3\"...\n",
      "The file \"./Yeat.mp3\" has been successfully uploaded (file id: 82f4d686-8c3b-443b-83bb-d05d99293727)\n",
      "Processing the file \"./Yeat.mp3\"...\n",
      "Queue up...\n",
      "\b              Progress: 100%\n",
      "Downloading the stem track file \"https://d.lalal.ai/media/split/82f4d686-8c3b-443b-83bb-d05d99293727/759e2718-35ba-44e4-811d-9c09365606c4/electric_guitar\"...\n",
      "The stem track file has been downloaded to \"./Output/Yeat_electric_guitar_split_by_lalalai.mp4\"\n",
      "Downloading the back track file \"https://d.lalal.ai/media/split/82f4d686-8c3b-443b-83bb-d05d99293727/759e2718-35ba-44e4-811d-9c09365606c4/no_electric_guitar\"...\n",
      "The back track file has been downloaded to \"./Output/Yeat_no_electric_guitar_split_by_lalalai.mp4\"\n",
      "The file \"./Yeat.mp3\" has been successfully split\n",
      "\n"
     ]
    }
   ],
   "source": [
    "import subprocess\n",
    "\n",
    "# Run the command and capture output\n",
    "process = subprocess.run(command, shell=True, stdout=subprocess.PIPE, stderr=subprocess.PIPE, text=True)\n",
    "\n",
    "# Check the results\n",
    "if process.returncode == 0:\n",
    "    print(\"Success:\")\n",
    "    print(process.stdout)\n",
    "else:\n",
    "    print(\"Error:\")\n",
    "    print(process.stderr)"
   ]
  }
 ],
 "metadata": {
  "kernelspec": {
   "display_name": "Python 3",
   "language": "python",
   "name": "python3"
  },
  "language_info": {
   "codemirror_mode": {
    "name": "ipython",
    "version": 3
   },
   "file_extension": ".py",
   "mimetype": "text/x-python",
   "name": "python",
   "nbconvert_exporter": "python",
   "pygments_lexer": "ipython3",
   "version": "3.8.1"
  }
 },
 "nbformat": 4,
 "nbformat_minor": 2
}
